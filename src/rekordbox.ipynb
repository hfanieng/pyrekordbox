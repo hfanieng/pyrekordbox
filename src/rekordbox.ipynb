{
 "cells": [
  {
   "cell_type": "code",
   "execution_count": 5,
   "metadata": {},
   "outputs": [
    {
     "name": "stdout",
     "output_type": "stream",
     "text": [
      "Pioneer:\n",
      "   app_dir =      /Users/heikofanieng/Library/Application Support/Pioneer\n",
      "   install_dir =  /Applications\n",
      "Rekordbox 5:\n",
      "Rekordbox 6:\n",
      "   app_dir =      /Users/heikofanieng/Library/Application Support/Pioneer/rekordbox6\n",
      "   db_dir =       /Users/heikofanieng/Library/Pioneer/rekordbox\n",
      "   db_path =      /Users/heikofanieng/Library/Pioneer/rekordbox/master.db\n",
      "   install_dir =  /Applications/rekordbox 6\n",
      "   version =      6\n"
     ]
    }
   ],
   "source": [
    "from pyrekordbox import show_config\n",
    "\n",
    "show_config()"
   ]
  },
  {
   "cell_type": "code",
   "execution_count": null,
   "metadata": {},
   "outputs": [],
   "source": [
    "from pyrekordbox import Rekordbox6Database\n",
    "\n",
    "db = Rekordbox6Database()\n",
    "\n",
    "for content in db.get_content():\n",
    "    print(content.Title, content.Artist.Name)\n",
    "\n",
    "playlist = db.get_playlist()[0]\n",
    "for song in playlist.Songs:\n",
    "    content = song.Content\n",
    "    print(content.Title, content.Artist.Name)"
   ]
  }
 ],
 "metadata": {
  "kernelspec": {
   "display_name": "Python 3",
   "language": "python",
   "name": "python3"
  },
  "language_info": {
   "codemirror_mode": {
    "name": "ipython",
    "version": 3
   },
   "file_extension": ".py",
   "mimetype": "text/x-python",
   "name": "python",
   "nbconvert_exporter": "python",
   "pygments_lexer": "ipython3",
   "version": "3.12.4"
  }
 },
 "nbformat": 4,
 "nbformat_minor": 2
}
